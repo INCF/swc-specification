{
 "cells": [
  {
   "cell_type": "code",
   "execution_count": 2,
   "id": "64dd7610",
   "metadata": {},
   "outputs": [
    {
     "name": "stderr",
     "output_type": "stream",
     "text": [
      "fatal: destination path 'swc-specification' already exists and is not an empty directory.\n"
     ]
    }
   ],
   "source": [
    "!git clone https://github.com/parthdeshmukh1011/swc-specification.git"
   ]
  },
  {
   "cell_type": "code",
   "execution_count": 3,
   "id": "b10d971e",
   "metadata": {},
   "outputs": [
    {
     "name": "stdout",
     "output_type": "stream",
     "text": [
      "Integer Part: 123\n",
      "Fractional Part: 45\n"
     ]
    }
   ],
   "source": [
    "decimal_separator = '.'\n",
    "number = \"123.45\"\n",
    "integer_part, fractional_part = number.split(decimal_separator)\n",
    "\n",
    "print(\"Integer Part:\", integer_part)\n",
    "print(\"Fractional Part:\", fractional_part)"
   ]
  },
  {
   "cell_type": "code",
   "execution_count": null,
   "id": "354af2ee",
   "metadata": {},
   "outputs": [],
   "source": []
  }
 ],
 "metadata": {
  "kernelspec": {
   "display_name": "Python 3 (ipykernel)",
   "language": "python",
   "name": "python3"
  },
  "language_info": {
   "codemirror_mode": {
    "name": "ipython",
    "version": 3
   },
   "file_extension": ".py",
   "mimetype": "text/x-python",
   "name": "python",
   "nbconvert_exporter": "python",
   "pygments_lexer": "ipython3",
   "version": "3.11.5"
  }
 },
 "nbformat": 4,
 "nbformat_minor": 5
}
